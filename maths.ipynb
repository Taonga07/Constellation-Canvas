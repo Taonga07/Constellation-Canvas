{
 "cells": [
  {
   "cell_type": "code",
   "execution_count": 1,
   "metadata": {},
   "outputs": [],
   "source": [
    "from math import pi"
   ]
  },
  {
   "cell_type": "code",
   "execution_count": 2,
   "metadata": {},
   "outputs": [],
   "source": [
    "SUN_RADIUS = 6.957 * (10**8)\n",
    "SUN_MASS = 1.989 * 10**30\n",
    "SUN_LUM = 3.828 * 10**26\n",
    "SB = 5.670367 * 10**-8\n",
    "SUN_LIFE = 10**10\n",
    "SUN_TEMP = 5778\n",
    "\n",
    "star_radius = 6.957 * (10**8)\n",
    "star_temp = 5778\n",
    "star_mass = 2 * 10**30\n",
    "star_life = 5 * 10**9"
   ]
  },
  {
   "cell_type": "code",
   "execution_count": 3,
   "metadata": {},
   "outputs": [],
   "source": [
    "def find_abs_lum(radius, temp):\n",
    "   surface_area = 4 * pi * (radius**2)\n",
    "   return SB * surface_area * (temp**4)"
   ]
  },
  {
   "cell_type": "code",
   "execution_count": 4,
   "metadata": {},
   "outputs": [],
   "source": [
    "def find_rel_lum(radius, temp):\n",
    "   return (((radius / SUN_RADIUS)**2) * ((temp / SUN_TEMP)**4) )"
   ]
  },
  {
   "cell_type": "code",
   "execution_count": 5,
   "metadata": {},
   "outputs": [],
   "source": [
    "def find_mass(radius, temp):\n",
    "   return 8.852 * (10**20) * (radius **0.571) * (temp ** 1.142)"
   ]
  },
  {
   "cell_type": "code",
   "execution_count": 6,
   "metadata": {},
   "outputs": [],
   "source": [
    "def find_lifetime(mass):\n",
    "   return SUN_LIFE * (mass / SUN_MASS)**2.5"
   ]
  },
  {
   "cell_type": "code",
   "execution_count": 7,
   "metadata": {},
   "outputs": [],
   "source": [
    "\n",
    "def mass_from_reminaing_lifetime(lifetime):\n",
    "   return (lifetime / SUN_LIFE)**(1/2.5) * SUN_MASS"
   ]
  },
  {
   "cell_type": "code",
   "execution_count": 8,
   "metadata": {},
   "outputs": [],
   "source": [
    "def find_radius_from_lifetime(lifetime, temp):\n",
    "   return (mass_from_reminaing_lifetime(lifetime) / (8.852 * 10**20 * (temp ** 1.142)) ) **(1/0.571)"
   ]
  },
  {
   "cell_type": "code",
   "execution_count": 9,
   "metadata": {},
   "outputs": [
    {
     "name": "stdout",
     "output_type": "stream",
     "text": [
      "1.9589092500914717e+30\n",
      "10138834439.02393\n",
      "1.507380125394591e+30\n",
      "714523496.7948823\n"
     ]
    }
   ],
   "source": [
    "print(find_mass(star_radius, star_temp))\n",
    "print(find_lifetime(star_mass))\n",
    "print(mass_from_reminaing_lifetime(star_life))\n",
    "print(find_radius_from_lifetime(10**10, star_temp))"
   ]
  }
 ],
 "metadata": {
  "kernelspec": {
   "display_name": "Python 3.10.6 64-bit",
   "language": "python",
   "name": "python3"
  },
  "language_info": {
   "codemirror_mode": {
    "name": "ipython",
    "version": 3
   },
   "file_extension": ".py",
   "mimetype": "text/x-python",
   "name": "python",
   "nbconvert_exporter": "python",
   "pygments_lexer": "ipython3",
   "version": "3.10.4"
  },
  "orig_nbformat": 4,
  "vscode": {
   "interpreter": {
    "hash": "916dbcbb3f70747c44a77c7bcd40155683ae19c65e1c03b4aa3499c5328201f1"
   }
  }
 },
 "nbformat": 4,
 "nbformat_minor": 2
}
